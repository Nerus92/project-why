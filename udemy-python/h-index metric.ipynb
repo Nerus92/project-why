{
 "cells": [
  {
   "cell_type": "code",
   "execution_count": 45,
   "metadata": {
    "collapsed": false
   },
   "outputs": [],
   "source": [
    "def get_h_index(papers_citations_list):\n",
    "    articles = {}\n",
    "    for num_citations in papers_citations_list:\n",
    "        for index in range(num_citations, 0, -1):\n",
    "            if index in articles.keys():\n",
    "                articles[index] += 1\n",
    "            else:\n",
    "                articles[index] = 1\n",
    "    print(articles)\n",
    "    for key, value in sorted(articles.items()):\n",
    "        print(\"%d, %d\" % (key, value))\n",
    "        if value < key:\n",
    "            h = key - 1\n",
    "            break\n",
    "    return h"
   ]
  },
  {
   "cell_type": "code",
   "execution_count": 46,
   "metadata": {
    "collapsed": false
   },
   "outputs": [
    {
     "name": "stdout",
     "output_type": "stream",
     "text": [
      "{1: 11, 4: 6, 3: 7, 2: 8, 5: 3, 6: 1}\n",
      "1, 11\n",
      "2, 8\n",
      "3, 7\n",
      "4, 6\n",
      "5, 3\n"
     ]
    },
    {
     "data": {
      "text/plain": [
       "4"
      ]
     },
     "execution_count": 46,
     "metadata": {},
     "output_type": "execute_result"
    }
   ],
   "source": [
    "papers1 = [1, 4, 1, 4, 2, 1, 3, 5, 6, 4, 5]\n",
    "get_h_index(papers1)"
   ]
  },
  {
   "cell_type": "code",
   "execution_count": 47,
   "metadata": {
    "collapsed": false
   },
   "outputs": [
    {
     "name": "stdout",
     "output_type": "stream",
     "text": [
      "{1: 14, 4: 9, 3: 10, 2: 11, 5: 6, 6: 1}\n",
      "1, 14\n",
      "2, 11\n",
      "3, 10\n",
      "4, 9\n",
      "5, 6\n",
      "6, 1\n"
     ]
    },
    {
     "data": {
      "text/plain": [
       "5"
      ]
     },
     "execution_count": 47,
     "metadata": {},
     "output_type": "execute_result"
    }
   ],
   "source": [
    "papers2 = [1, 4, 1, 4, 2, 1, 3, 5, 6, 4, 5, 5, 5, 5]\n",
    "get_h_index(papers2)"
   ]
  },
  {
   "cell_type": "code",
   "execution_count": 48,
   "metadata": {
    "collapsed": false
   },
   "outputs": [
    {
     "name": "stdout",
     "output_type": "stream",
     "text": [
      "{1: 8, 4: 3, 3: 4, 2: 5, 5: 1}\n",
      "1, 8\n",
      "2, 5\n",
      "3, 4\n",
      "4, 3\n"
     ]
    },
    {
     "data": {
      "text/plain": [
       "3"
      ]
     },
     "execution_count": 48,
     "metadata": {},
     "output_type": "execute_result"
    }
   ],
   "source": [
    "papers3 = [1, 4, 1, 4, 2, 1, 3, 5]\n",
    "get_h_index(papers3)"
   ]
  },
  {
   "cell_type": "code",
   "execution_count": null,
   "metadata": {
    "collapsed": true
   },
   "outputs": [],
   "source": []
  }
 ],
 "metadata": {
  "kernelspec": {
   "display_name": "Python 3",
   "language": "python",
   "name": "python3"
  },
  "language_info": {
   "codemirror_mode": {
    "name": "ipython",
    "version": 3
   },
   "file_extension": ".py",
   "mimetype": "text/x-python",
   "name": "python",
   "nbconvert_exporter": "python",
   "pygments_lexer": "ipython3",
   "version": "3.6.5"
  }
 },
 "nbformat": 4,
 "nbformat_minor": 2
}
